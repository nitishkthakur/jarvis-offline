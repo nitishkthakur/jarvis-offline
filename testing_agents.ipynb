{
 "cells": [
  {
   "cell_type": "markdown",
   "id": "dc0f4b98",
   "metadata": {},
   "source": []
  },
  {
   "cell_type": "code",
   "execution_count": 1,
   "id": "5a4c71af",
   "metadata": {},
   "outputs": [],
   "source": [
    "from ollama_client import OllamaClient\n",
    "from pydantic import BaseModel, Field"
   ]
  },
  {
   "cell_type": "code",
   "execution_count": 9,
   "id": "80eeda30",
   "metadata": {},
   "outputs": [
    {
     "data": {
      "text/plain": [
       "{'text': '{\"formulation_1\": \"how to optimize python code performance\", \"formulation_2\": \"python code speed improvement techniques\", \"formulation_3\": \"best practices for enhancing python performance\"}\\n',\n",
       " 'raw': {'model': 'qwen3:1.7b',\n",
       "  'created_at': '2025-08-23T21:53:32.502208887Z',\n",
       "  'message': {'role': 'assistant',\n",
       "   'content': '{\"formulation_1\": \"how to optimize python code performance\", \"formulation_2\": \"python code speed improvement techniques\", \"formulation_3\": \"best practices for enhancing python performance\"}\\n'},\n",
       "  'done_reason': 'stop',\n",
       "  'done': True,\n",
       "  'total_duration': 508308847,\n",
       "  'load_duration': 28392403,\n",
       "  'prompt_eval_count': 352,\n",
       "  'prompt_eval_duration': 37308400,\n",
       "  'eval_count': 42,\n",
       "  'eval_duration': 433503871},\n",
       " 'conversation_history': [{'role': 'user',\n",
       "   'content': 'Hey Man. i love coding. I wanted to ask you several questions one of which is: How can I improve the performance of my Python code?'},\n",
       "  {'role': 'assistant',\n",
       "   'content': '{\"formulation_1\": \"how to optimize python code performance\", \"formulation_2\": \"python code speed improvement techniques\", \"formulation_3\": \"best practices for enhancing python performance\"}\\n'}]}"
      ]
     },
     "execution_count": 9,
     "metadata": {},
     "output_type": "execute_result"
    }
   ],
   "source": [
    "task = \"\"\"you are an expert on simplifying user question for optimal google search. \n",
    "1. Identify 3 different simpler formulations of what the user is asking\n",
    "2. keep the reformulations short and concise\n",
    "3. the 3 formulations must be varied and must be useful and varied variations of the user query but must be strongly related to the user query\n",
    "4. No need to write complete sentences but iinclude all important aspects\"\"\"\n",
    "model1=\"qwen3:1.7b\"\n",
    "model2=\"llama3.2:3b\"\n",
    "\n",
    "re_phrase_agent = OllamaClient(role = task, model_name=model1)\n",
    "\n",
    "class RePhraseResult(BaseModel):\n",
    "    formulation_1: str\n",
    "    formulation_2: str\n",
    "    formulation_3: str\n",
    "\n",
    "\n",
    "re_phrase_agent.invoke(query=\"Hey Man. i love coding. I wanted to ask you several questions one of which is: How can I improve the performance of my Python code?\", json_schema=RePhraseResult)"
   ]
  },
  {
   "cell_type": "code",
   "execution_count": 3,
   "id": "b16d0f8d",
   "metadata": {},
   "outputs": [
    {
     "data": {
      "text/plain": [
       "'You are a helpful Agent among a group of agents trying to solve a problem. Each agent is tasked with a part or the entire problem.\\nYou will be given your task. You will have access to all the relevant information and tools. You can also see the work already done by other agents. Use that information if required.\\n\\n\\n## Instructions\\n1. View the context, the task executed, the results, the tool call results of the other agents.\\n2. Reason and execute your task.\\n3. You have access to multiple tools as listed. You can only call tools which are relevant to your task. Other agents might have executed other tools which you dont have access to.\\n4. Always output strictly JSON. Always.\\n5. your task will be enclosed in <YOUR TASK></YOUR TASK> tags. This is your task. Only execute this task.\\n6. The work done by other agents will be enclosed in <Agent: Agent Name></Agent: Agent Name> tags. There may be multiple of these.\\n\\n\\nFollowing is the relevant information from other agents (if any):\\n\\n\\n\\n<YOUR TASK>\\nyou are an expert on simplifying user question for optimal google search. Identify 3 different simpler formulations of what the user is asking\\n</YOUR TASK>\\n\\n\\n'"
      ]
     },
     "execution_count": 3,
     "metadata": {},
     "output_type": "execute_result"
    }
   ],
   "source": [
    "re_phrase_agent.system_instructions"
   ]
  },
  {
   "cell_type": "code",
   "execution_count": null,
   "id": "25b83233",
   "metadata": {},
   "outputs": [],
   "source": []
  }
 ],
 "metadata": {
  "kernelspec": {
   "display_name": ".venv",
   "language": "python",
   "name": "python3"
  },
  "language_info": {
   "codemirror_mode": {
    "name": "ipython",
    "version": 3
   },
   "file_extension": ".py",
   "mimetype": "text/x-python",
   "name": "python",
   "nbconvert_exporter": "python",
   "pygments_lexer": "ipython3",
   "version": "3.12.3"
  }
 },
 "nbformat": 4,
 "nbformat_minor": 5
}
